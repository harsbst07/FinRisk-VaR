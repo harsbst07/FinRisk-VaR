{
 "cells": [
  {
   "cell_type": "code",
   "execution_count": 1,
   "id": "72c39c74-e3d8-4f42-97ee-277763855fc8",
   "metadata": {},
   "outputs": [],
   "source": [
    "import numpy as np\n",
    "import pandas as pd\n",
    "import datetime as dt\n",
    "import yfinance as yf\n",
    "import matplotlib.pyplot as plt\n",
    "from scipy.stats import norm"
   ]
  },
  {
   "cell_type": "code",
   "execution_count": 2,
   "id": "dde08f78-6eaf-4d54-8c06-121146f2f679",
   "metadata": {},
   "outputs": [],
   "source": [
    "# Set time to a certain number of years"
   ]
  },
  {
   "cell_type": "code",
   "execution_count": 3,
   "id": "5b8f43fe-3346-4e9c-b1b3-46d9131487fe",
   "metadata": {},
   "outputs": [],
   "source": [
    "years = 15\n",
    "\n",
    "end = dt.datetime.now()\n",
    "start = end - dt.timedelta(days = 365*years)"
   ]
  },
  {
   "cell_type": "code",
   "execution_count": 4,
   "id": "27784d24-80c5-4695-99b2-78a085869758",
   "metadata": {},
   "outputs": [],
   "source": [
    "# Create a list of tickers"
   ]
  },
  {
   "cell_type": "code",
   "execution_count": 5,
   "id": "f9a50d00-8268-44db-8301-0a6ae476b7e4",
   "metadata": {},
   "outputs": [],
   "source": [
    "tickers = [\"BHARTIARTL.NS\",\"HDFCBANK.NS\",\"ICICIBANK.BO\",\"RELIANCE.NS\",\"TCS.NS\"]"
   ]
  },
  {
   "cell_type": "code",
   "execution_count": 6,
   "id": "2dd9e17e-4dd0-4bde-8f78-9f665d3df942",
   "metadata": {},
   "outputs": [],
   "source": [
    "# Download the daily close prices for the tickers"
   ]
  },
  {
   "cell_type": "code",
   "execution_count": 7,
   "id": "c8f7ac38-7ac4-48c6-9eac-92c9bae126ff",
   "metadata": {},
   "outputs": [
    {
     "name": "stderr",
     "output_type": "stream",
     "text": [
      "C:\\Users\\HP\\AppData\\Local\\Temp\\ipykernel_66900\\4162263802.py:1: FutureWarning: YF.download() has changed argument auto_adjust default to True\n",
      "  df = yf.download(tickers, start, end)\n",
      "[*********************100%***********************]  5 of 5 completed\n"
     ]
    },
    {
     "data": {
      "text/html": [
       "<div>\n",
       "<style scoped>\n",
       "    .dataframe tbody tr th:only-of-type {\n",
       "        vertical-align: middle;\n",
       "    }\n",
       "\n",
       "    .dataframe tbody tr th {\n",
       "        vertical-align: top;\n",
       "    }\n",
       "\n",
       "    .dataframe thead th {\n",
       "        text-align: right;\n",
       "    }\n",
       "</style>\n",
       "<table border=\"1\" class=\"dataframe\">\n",
       "  <thead>\n",
       "    <tr style=\"text-align: right;\">\n",
       "      <th>Ticker</th>\n",
       "      <th>BHARTIARTL.NS</th>\n",
       "      <th>HDFCBANK.NS</th>\n",
       "      <th>ICICIBANK.BO</th>\n",
       "      <th>RELIANCE.NS</th>\n",
       "      <th>TCS.NS</th>\n",
       "    </tr>\n",
       "    <tr>\n",
       "      <th>Date</th>\n",
       "      <th></th>\n",
       "      <th></th>\n",
       "      <th></th>\n",
       "      <th></th>\n",
       "      <th></th>\n",
       "    </tr>\n",
       "  </thead>\n",
       "  <tbody>\n",
       "    <tr>\n",
       "      <th>2010-09-02</th>\n",
       "      <td>278.347626</td>\n",
       "      <td>91.322922</td>\n",
       "      <td>114.388634</td>\n",
       "      <td>191.944183</td>\n",
       "      <td>335.106537</td>\n",
       "    </tr>\n",
       "    <tr>\n",
       "      <th>2010-09-03</th>\n",
       "      <td>282.638275</td>\n",
       "      <td>91.594284</td>\n",
       "      <td>114.023621</td>\n",
       "      <td>189.538376</td>\n",
       "      <td>332.406860</td>\n",
       "    </tr>\n",
       "    <tr>\n",
       "      <th>2010-09-06</th>\n",
       "      <td>286.095703</td>\n",
       "      <td>92.026382</td>\n",
       "      <td>118.363731</td>\n",
       "      <td>195.056412</td>\n",
       "      <td>339.572632</td>\n",
       "    </tr>\n",
       "    <tr>\n",
       "      <th>2010-09-07</th>\n",
       "      <td>286.220642</td>\n",
       "      <td>91.809303</td>\n",
       "      <td>118.181252</td>\n",
       "      <td>197.032242</td>\n",
       "      <td>345.924652</td>\n",
       "    </tr>\n",
       "    <tr>\n",
       "      <th>2010-09-08</th>\n",
       "      <td>293.260529</td>\n",
       "      <td>90.995193</td>\n",
       "      <td>116.949371</td>\n",
       "      <td>196.479462</td>\n",
       "      <td>348.981628</td>\n",
       "    </tr>\n",
       "  </tbody>\n",
       "</table>\n",
       "</div>"
      ],
      "text/plain": [
       "Ticker      BHARTIARTL.NS  HDFCBANK.NS  ICICIBANK.BO  RELIANCE.NS      TCS.NS\n",
       "Date                                                                         \n",
       "2010-09-02     278.347626    91.322922    114.388634   191.944183  335.106537\n",
       "2010-09-03     282.638275    91.594284    114.023621   189.538376  332.406860\n",
       "2010-09-06     286.095703    92.026382    118.363731   195.056412  339.572632\n",
       "2010-09-07     286.220642    91.809303    118.181252   197.032242  345.924652\n",
       "2010-09-08     293.260529    90.995193    116.949371   196.479462  348.981628"
      ]
     },
     "execution_count": 7,
     "metadata": {},
     "output_type": "execute_result"
    }
   ],
   "source": [
    "df = yf.download(tickers, start, end)\n",
    "Close = df.Close\n",
    "Close.head()"
   ]
  },
  {
   "cell_type": "code",
   "execution_count": 8,
   "id": "68447f9f-265d-4ce6-80cd-23364de50cff",
   "metadata": {},
   "outputs": [],
   "source": [
    "# Calculate the daily log returns and drop any NAs"
   ]
  },
  {
   "cell_type": "code",
   "execution_count": 9,
   "id": "fbb74b71-8900-48fa-a1a6-775d28a52545",
   "metadata": {},
   "outputs": [
    {
     "data": {
      "text/html": [
       "<div>\n",
       "<style scoped>\n",
       "    .dataframe tbody tr th:only-of-type {\n",
       "        vertical-align: middle;\n",
       "    }\n",
       "\n",
       "    .dataframe tbody tr th {\n",
       "        vertical-align: top;\n",
       "    }\n",
       "\n",
       "    .dataframe thead th {\n",
       "        text-align: right;\n",
       "    }\n",
       "</style>\n",
       "<table border=\"1\" class=\"dataframe\">\n",
       "  <thead>\n",
       "    <tr style=\"text-align: right;\">\n",
       "      <th>Ticker</th>\n",
       "      <th>BHARTIARTL.NS</th>\n",
       "      <th>HDFCBANK.NS</th>\n",
       "      <th>ICICIBANK.BO</th>\n",
       "      <th>RELIANCE.NS</th>\n",
       "      <th>TCS.NS</th>\n",
       "    </tr>\n",
       "    <tr>\n",
       "      <th>Date</th>\n",
       "      <th></th>\n",
       "      <th></th>\n",
       "      <th></th>\n",
       "      <th></th>\n",
       "      <th></th>\n",
       "    </tr>\n",
       "  </thead>\n",
       "  <tbody>\n",
       "    <tr>\n",
       "      <th>2010-09-03</th>\n",
       "      <td>0.015297</td>\n",
       "      <td>0.002967</td>\n",
       "      <td>-0.003196</td>\n",
       "      <td>-0.012613</td>\n",
       "      <td>-0.008089</td>\n",
       "    </tr>\n",
       "    <tr>\n",
       "      <th>2010-09-06</th>\n",
       "      <td>0.012158</td>\n",
       "      <td>0.004706</td>\n",
       "      <td>0.037357</td>\n",
       "      <td>0.028697</td>\n",
       "      <td>0.021328</td>\n",
       "    </tr>\n",
       "    <tr>\n",
       "      <th>2010-09-07</th>\n",
       "      <td>0.000437</td>\n",
       "      <td>-0.002362</td>\n",
       "      <td>-0.001543</td>\n",
       "      <td>0.010079</td>\n",
       "      <td>0.018533</td>\n",
       "    </tr>\n",
       "    <tr>\n",
       "      <th>2010-09-08</th>\n",
       "      <td>0.024298</td>\n",
       "      <td>-0.008907</td>\n",
       "      <td>-0.010478</td>\n",
       "      <td>-0.002809</td>\n",
       "      <td>0.008798</td>\n",
       "    </tr>\n",
       "    <tr>\n",
       "      <th>2010-09-09</th>\n",
       "      <td>-0.005412</td>\n",
       "      <td>0.029497</td>\n",
       "      <td>0.024519</td>\n",
       "      <td>-0.001095</td>\n",
       "      <td>-0.004961</td>\n",
       "    </tr>\n",
       "    <tr>\n",
       "      <th>...</th>\n",
       "      <td>...</td>\n",
       "      <td>...</td>\n",
       "      <td>...</td>\n",
       "      <td>...</td>\n",
       "      <td>...</td>\n",
       "    </tr>\n",
       "    <tr>\n",
       "      <th>2025-08-20</th>\n",
       "      <td>0.009745</td>\n",
       "      <td>-0.001458</td>\n",
       "      <td>-0.004291</td>\n",
       "      <td>-0.005012</td>\n",
       "      <td>0.026953</td>\n",
       "    </tr>\n",
       "    <tr>\n",
       "      <th>2025-08-21</th>\n",
       "      <td>0.000778</td>\n",
       "      <td>0.001508</td>\n",
       "      <td>0.010814</td>\n",
       "      <td>0.008316</td>\n",
       "      <td>0.001290</td>\n",
       "    </tr>\n",
       "    <tr>\n",
       "      <th>2025-08-22</th>\n",
       "      <td>0.001760</td>\n",
       "      <td>-0.013449</td>\n",
       "      <td>-0.006662</td>\n",
       "      <td>-0.011009</td>\n",
       "      <td>-0.015788</td>\n",
       "    </tr>\n",
       "    <tr>\n",
       "      <th>2025-08-25</th>\n",
       "      <td>-0.001346</td>\n",
       "      <td>-0.000255</td>\n",
       "      <td>-0.002091</td>\n",
       "      <td>0.002410</td>\n",
       "      <td>0.027962</td>\n",
       "    </tr>\n",
       "    <tr>\n",
       "      <th>2025-08-26</th>\n",
       "      <td>-0.013558</td>\n",
       "      <td>-0.008847</td>\n",
       "      <td>-0.011579</td>\n",
       "      <td>-0.019804</td>\n",
       "      <td>0.005272</td>\n",
       "    </tr>\n",
       "  </tbody>\n",
       "</table>\n",
       "<p>3645 rows × 5 columns</p>\n",
       "</div>"
      ],
      "text/plain": [
       "Ticker      BHARTIARTL.NS  HDFCBANK.NS  ICICIBANK.BO  RELIANCE.NS    TCS.NS\n",
       "Date                                                                       \n",
       "2010-09-03       0.015297     0.002967     -0.003196    -0.012613 -0.008089\n",
       "2010-09-06       0.012158     0.004706      0.037357     0.028697  0.021328\n",
       "2010-09-07       0.000437    -0.002362     -0.001543     0.010079  0.018533\n",
       "2010-09-08       0.024298    -0.008907     -0.010478    -0.002809  0.008798\n",
       "2010-09-09      -0.005412     0.029497      0.024519    -0.001095 -0.004961\n",
       "...                   ...          ...           ...          ...       ...\n",
       "2025-08-20       0.009745    -0.001458     -0.004291    -0.005012  0.026953\n",
       "2025-08-21       0.000778     0.001508      0.010814     0.008316  0.001290\n",
       "2025-08-22       0.001760    -0.013449     -0.006662    -0.011009 -0.015788\n",
       "2025-08-25      -0.001346    -0.000255     -0.002091     0.002410  0.027962\n",
       "2025-08-26      -0.013558    -0.008847     -0.011579    -0.019804  0.005272\n",
       "\n",
       "[3645 rows x 5 columns]"
      ]
     },
     "execution_count": 9,
     "metadata": {},
     "output_type": "execute_result"
    }
   ],
   "source": [
    "log_returns = np.log(Close/Close.shift(1)).dropna()\n",
    "log_returns"
   ]
  },
  {
   "cell_type": "code",
   "execution_count": 10,
   "id": "7cfa6952-71f5-4471-9cbb-b1c0d9624b1d",
   "metadata": {},
   "outputs": [],
   "source": [
    "# Create a function that will be used to calculate portfolio expected return"
   ]
  },
  {
   "cell_type": "code",
   "execution_count": 11,
   "id": "6110ed29-59f3-403b-9a95-2101d7beac6e",
   "metadata": {},
   "outputs": [],
   "source": [
    "def expected_return(weights, log_returns):\n",
    "    return np.sum(log_returns.mean()*weights)"
   ]
  },
  {
   "cell_type": "code",
   "execution_count": 12,
   "id": "13583540-326c-4829-aa8f-787340d3a051",
   "metadata": {},
   "outputs": [],
   "source": [
    "def standard_deviation(weights, cov_matrix):\n",
    "    variance = weights.T @ cov_matrix @ weights\n",
    "    return np.sqrt(variance)"
   ]
  },
  {
   "cell_type": "code",
   "execution_count": 13,
   "id": "65ce4a29-bd12-418d-9998-b7cbc20ffcdf",
   "metadata": {},
   "outputs": [],
   "source": [
    "# Create a covariance matrix for all the securities"
   ]
  },
  {
   "cell_type": "code",
   "execution_count": 14,
   "id": "5544c4a3-d0cc-48cb-ac47-c2c0afee74ef",
   "metadata": {},
   "outputs": [
    {
     "name": "stdout",
     "output_type": "stream",
     "text": [
      "Ticker         BHARTIARTL.NS  HDFCBANK.NS  ICICIBANK.BO  RELIANCE.NS    TCS.NS\n",
      "Ticker                                                                        \n",
      "BHARTIARTL.NS       0.000360     0.000080      0.000117     0.000096  0.000049\n",
      "HDFCBANK.NS         0.000080     0.000212      0.000158     0.000105  0.000055\n",
      "ICICIBANK.BO        0.000117     0.000158      0.000393     0.000140  0.000065\n",
      "RELIANCE.NS         0.000096     0.000105      0.000140     0.000295  0.000072\n",
      "TCS.NS              0.000049     0.000055      0.000065     0.000072  0.000239\n"
     ]
    }
   ],
   "source": [
    "cov_matrix = log_returns.cov()\n",
    "print(cov_matrix)"
   ]
  },
  {
   "cell_type": "code",
   "execution_count": 15,
   "id": "bdc06137-f0f2-478b-82ef-901568840731",
   "metadata": {},
   "outputs": [],
   "source": [
    "# Create an equally weighted portfolio and find total portfolio expected return and standard deviation"
   ]
  },
  {
   "cell_type": "code",
   "execution_count": 16,
   "id": "e8f03e75-cbfc-4302-9a06-65fee1c1f27d",
   "metadata": {},
   "outputs": [],
   "source": [
    "portfolio_value = 1000000\n",
    "weights = np.array([1/len(tickers)]*len(tickers))\n",
    "portfolio_expected_return = expected_return(weights, log_returns)\n",
    "portfolio_std_dev = standard_deviation(weights, cov_matrix)"
   ]
  },
  {
   "cell_type": "code",
   "execution_count": 17,
   "id": "afb18798-e5c5-4224-830f-185028d67dee",
   "metadata": {},
   "outputs": [],
   "source": [
    "# Create a function that gives a random Z-score based on normal distribution"
   ]
  },
  {
   "cell_type": "code",
   "execution_count": 18,
   "id": "d0459e8c-6417-4f2e-b717-a532b47175f6",
   "metadata": {},
   "outputs": [],
   "source": [
    "def random_z_score():\n",
    "    return np.random.normal(0,1)"
   ]
  },
  {
   "cell_type": "code",
   "execution_count": 19,
   "id": "e4f3522a-0501-4334-bd42-ddd5e3c7c53e",
   "metadata": {},
   "outputs": [],
   "source": [
    "# Create a function to calculate Scenario GainLoss."
   ]
  },
  {
   "cell_type": "code",
   "execution_count": 20,
   "id": "3492b948-edda-4161-84bd-952f38d54448",
   "metadata": {},
   "outputs": [],
   "source": [
    "days = 1\n",
    "\n",
    "def scenario_gain_loss(portfolio_value, portfolio_std_dev, z_score, days):\n",
    "    return portfolio_value * portfolio_expected_return * days + portfolio_value * portfolio_std_dev * z_score * np.sqrt(days)"
   ]
  },
  {
   "cell_type": "code",
   "execution_count": 21,
   "id": "9d5881ed-3847-4dfc-910e-2640834000eb",
   "metadata": {},
   "outputs": [],
   "source": [
    "# Run 10,000 simulation"
   ]
  },
  {
   "cell_type": "code",
   "execution_count": 22,
   "id": "71cf1406-5296-4ea9-abff-29441b7d519c",
   "metadata": {},
   "outputs": [],
   "source": [
    "simulations = 10000\n",
    "scenarioReturn = []\n",
    "\n",
    "for i in range(simulations):\n",
    "    z_score = random_z_score()\n",
    "    scenarioReturn.append(scenario_gain_loss(portfolio_value, portfolio_std_dev, z_score, days))"
   ]
  },
  {
   "cell_type": "code",
   "execution_count": 23,
   "id": "7ecb467c-abfa-4b92-a994-bc6e1ddf17da",
   "metadata": {},
   "outputs": [],
   "source": [
    "# Specify a confidence interval and calculate the Value at Risk"
   ]
  },
  {
   "cell_type": "code",
   "execution_count": 24,
   "id": "dd119956-e333-4c9d-999b-5f18a3a8b101",
   "metadata": {},
   "outputs": [
    {
     "name": "stdout",
     "output_type": "stream",
     "text": [
      "26653.508154724383\n"
     ]
    }
   ],
   "source": [
    "confidence_interval = 0.99\n",
    "VaR = -np.percentile(scenarioReturn, 100*(1 - confidence_interval))\n",
    "print(VaR)"
   ]
  },
  {
   "cell_type": "code",
   "execution_count": 25,
   "id": "46a35772-5a0f-4166-be01-d44043d67bff",
   "metadata": {},
   "outputs": [],
   "source": [
    "# Plot the results of all 10,000 scenarios"
   ]
  },
  {
   "cell_type": "code",
   "execution_count": 26,
   "id": "90f5af74-a06b-4a80-8952-d0a0d325ada0",
   "metadata": {},
   "outputs": [
    {
     "data": {
      "image/png": "[encoded data removed]",
      "text/plain": [
       "<Figure size 640x480 with 1 Axes>"
      ]
     },
     "metadata": {},
     "output_type": "display_data"
    }
   ],
   "source": [
    "plt.hist(scenarioReturn, bins=50, density=True)\n",
    "plt.xlabel(\"Scenario Gain/Loss ($)\")\n",
    "plt.ylabel(\"Frequency\")\n",
    "plt.title(f\"Distribution of Portfolio Gain/Loss Over {days} Days\")\n",
    "plt.axvline(-VaR, color=\"r\", linestyle = \"dashed\", linewidth = 2, label=f\"VaR at {confidence_interval:.0%} confidence level\")\n",
    "plt.legend()\n",
    "plt.show()"
   ]
  }
 ],
 "metadata": {
  "kernelspec": {
   "display_name": "Python [conda env:base] *",
   "language": "python",
   "name": "conda-base-py"
  },
  "language_info": {
   "codemirror_mode": {
    "name": "ipython",
    "version": 3
   },
   "file_extension": ".py",
   "mimetype": "text/x-python",
   "name": "python",
   "nbconvert_exporter": "python",
   "pygments_lexer": "ipython3",
   "version": "3.13.5"
  }
 },
 "nbformat": 4,
 "nbformat_minor": 5
}
